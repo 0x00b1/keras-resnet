{
 "cells": [
  {
   "cell_type": "markdown",
   "metadata": {
    "deletable": true,
    "editable": true
   },
   "source": [
    "# CIFAR-10"
   ]
  },
  {
   "cell_type": "markdown",
   "metadata": {
    "deletable": true,
    "editable": true
   },
   "source": [
    "## ResNet-50"
   ]
  },
  {
   "cell_type": "code",
   "execution_count": null,
   "metadata": {
    "collapsed": true,
    "deletable": true,
    "editable": true
   },
   "outputs": [],
   "source": [
    "%matplotlib inline"
   ]
  },
  {
   "cell_type": "code",
   "execution_count": null,
   "metadata": {
    "collapsed": false,
    "deletable": true,
    "editable": true
   },
   "outputs": [],
   "source": [
    "import keras\n",
    "import keras.datasets\n",
    "import keras.layers\n",
    "import keras.layers.convolutional\n",
    "import keras.layers.merge\n",
    "import keras.layers.normalization\n",
    "import keras.models\n",
    "import keras.regularizers\n",
    "import keras_resnet\n",
    "import matplotlib.pyplot\n",
    "import pandas\n",
    "import tensorflow"
   ]
  },
  {
   "cell_type": "code",
   "execution_count": null,
   "metadata": {
    "collapsed": false
   },
   "outputs": [],
   "source": [
    "configuration = tensorflow.ConfigProto()\n",
    "\n",
    "configuration.gpu_options.allow_growth = True\n",
    "\n",
    "configuration.gpu_options.visible_device_list = \"1\"\n",
    "\n",
    "session = tensorflow.Session(config=configuration)\n",
    "\n",
    "keras.backend.set_session(session)"
   ]
  },
  {
   "cell_type": "code",
   "execution_count": null,
   "metadata": {
    "collapsed": false,
    "deletable": true,
    "editable": true
   },
   "outputs": [],
   "source": [
    "(x, y), (_, _) = keras.datasets.cifar10.load_data()"
   ]
  },
  {
   "cell_type": "code",
   "execution_count": null,
   "metadata": {
    "collapsed": true,
    "deletable": true,
    "editable": true
   },
   "outputs": [],
   "source": [
    "y = keras.utils.np_utils.to_categorical(y)"
   ]
  },
  {
   "cell_type": "code",
   "execution_count": null,
   "metadata": {
    "collapsed": true,
    "deletable": true,
    "editable": true
   },
   "outputs": [],
   "source": [
    "shape, classes = (32, 32, 3), 10"
   ]
  },
  {
   "cell_type": "markdown",
   "metadata": {
    "deletable": true,
    "editable": true
   },
   "source": [
    "### Training"
   ]
  },
  {
   "cell_type": "code",
   "execution_count": null,
   "metadata": {
    "collapsed": false,
    "deletable": true,
    "editable": true
   },
   "outputs": [],
   "source": [
    "model = keras_resnet.ResNet50(keras.layers.Input(shape), classes)\n",
    "\n",
    "optimizer = keras.optimizers.Adam()\n",
    "\n",
    "loss = \"categorical_crossentropy\"\n",
    "\n",
    "metrics = [\n",
    "    \"accuracy\"\n",
    "]\n",
    "\n",
    "model.compile(optimizer, loss, metrics)"
   ]
  },
  {
   "cell_type": "code",
   "execution_count": null,
   "metadata": {
    "collapsed": true,
    "deletable": true,
    "editable": true
   },
   "outputs": [],
   "source": [
    "pathname = \"../../checkpoints/CIFAR-10/ResNet-50.hdf5\"\n",
    "\n",
    "model_checkpoint = keras.callbacks.ModelCheckpoint(pathname)"
   ]
  },
  {
   "cell_type": "code",
   "execution_count": null,
   "metadata": {
    "collapsed": true,
    "deletable": true,
    "editable": true
   },
   "outputs": [],
   "source": [
    "pathname = \"../../logs/CIFAR-10/ResNet-50.csv\"\n",
    "\n",
    "csv_logger = keras.callbacks.CSVLogger(pathname)"
   ]
  },
  {
   "cell_type": "code",
   "execution_count": null,
   "metadata": {
    "collapsed": true,
    "deletable": true,
    "editable": true
   },
   "outputs": [],
   "source": [
    "callbacks = [\n",
    "    csv_logger,\n",
    "    model_checkpoint\n",
    "]"
   ]
  },
  {
   "cell_type": "code",
   "execution_count": null,
   "metadata": {
    "collapsed": false,
    "deletable": true,
    "editable": true
   },
   "outputs": [],
   "source": [
    "model.fit(\n",
    "    batch_size=1000,\n",
    "    callbacks=callbacks,\n",
    "    epochs=100,\n",
    "    validation_split=0.5,\n",
    "    x=x,\n",
    "    y=y\n",
    ")"
   ]
  },
  {
   "cell_type": "code",
   "execution_count": null,
   "metadata": {
    "collapsed": true
   },
   "outputs": [],
   "source": [
    "training = pandas.read_csv(\"../../logs/CIFAR-10/ResNet-50.csv\")"
   ]
  },
  {
   "cell_type": "code",
   "execution_count": null,
   "metadata": {
    "collapsed": false
   },
   "outputs": [],
   "source": [
    "figure = matplotlib.pyplot.figure(figsize=(8, 8))\n",
    "\n",
    "matplotlib.pyplot.plot(training[\"loss\"])"
   ]
  },
  {
   "cell_type": "markdown",
   "metadata": {},
   "source": [
    "### Evaluation"
   ]
  },
  {
   "cell_type": "code",
   "execution_count": null,
   "metadata": {
    "collapsed": false
   },
   "outputs": [],
   "source": [
    "figure, ((a, b), (c, d)) = matplotlib.pyplot.subplots(nrows=2, ncols=2, figsize=(16, 16))\n",
    "\n",
    "a.set_title(\"Training\")\n",
    "\n",
    "a.set_ylabel(\"Accuracy\")\n",
    "\n",
    "a.set_ylim((0.0, 1.0))\n",
    "\n",
    "a.plot(training[\"acc\"])\n",
    "\n",
    "b.set_title(\"Validation\")\n",
    "\n",
    "b.set_ylabel(\"Accuracy\")\n",
    "\n",
    "b.set_ylim((0.0, 1.0))\n",
    "\n",
    "b.plot(training[\"val_acc\"])\n",
    "\n",
    "c.set_xlabel(\"Epoch\")\n",
    "c.set_ylabel(\"Loss\")\n",
    "\n",
    "c.set_ylim((0.0, 20.0))\n",
    "\n",
    "c.plot(training[\"loss\"])\n",
    "\n",
    "d.set_xlabel(\"Epoch\")\n",
    "d.set_ylabel(\"Loss\")\n",
    "\n",
    "d.set_ylim((0.0, 20.0))\n",
    "\n",
    "d.plot(training[\"val_loss\"])"
   ]
  },
  {
   "cell_type": "code",
   "execution_count": null,
   "metadata": {
    "collapsed": true
   },
   "outputs": [],
   "source": [
    "(_, _), (x, y) = keras.datasets.cifar10.load_data()"
   ]
  },
  {
   "cell_type": "code",
   "execution_count": null,
   "metadata": {
    "collapsed": true
   },
   "outputs": [],
   "source": [
    "y = keras.utils.np_utils.to_categorical(y)"
   ]
  },
  {
   "cell_type": "code",
   "execution_count": null,
   "metadata": {
    "collapsed": false
   },
   "outputs": [],
   "source": [
    "model.evaluate(x, y)"
   ]
  }
 ],
 "metadata": {
  "kernelspec": {
   "display_name": "Python 3",
   "language": "python",
   "name": "python3"
  },
  "language_info": {
   "codemirror_mode": {
    "name": "ipython",
    "version": 3
   },
   "file_extension": ".py",
   "mimetype": "text/x-python",
   "name": "python",
   "nbconvert_exporter": "python",
   "pygments_lexer": "ipython3",
   "version": "3.6.1"
  }
 },
 "nbformat": 4,
 "nbformat_minor": 0
}
